{
 "cells": [
  {
   "cell_type": "code",
   "execution_count": 1,
   "metadata": {},
   "outputs": [],
   "source": [
    "#tf.contrib.learn library"
   ]
  },
  {
   "cell_type": "code",
   "execution_count": 2,
   "metadata": {},
   "outputs": [
    {
     "name": "stdout",
     "output_type": "stream",
     "text": [
      "*tf.contrib.learn API is a high level TensorFlow library that simplifies the mechanics of michine learning: \n",
      " * running training loops \n",
      " * running evaluation loops \n",
      " * managing data sets \n",
      " * managing feeding \n",
      " tf.contrib.learn defines many common models\n"
     ]
    }
   ],
   "source": [
    "print('*tf.contrib.learn API is a high level TensorFlow library that simplifies the mechanics of michine learning: \\n * running training loops \\n * running evaluation loops \\n * managing data sets \\n * managing feeding \\n tf.contrib.learn defines many common models')"
   ]
  },
  {
   "cell_type": "code",
   "execution_count": 3,
   "metadata": {},
   "outputs": [],
   "source": [
    "#we'll implement the previous linear regression model example using tf.contrib.learn"
   ]
  },
  {
   "cell_type": "code",
   "execution_count": 13,
   "metadata": {},
   "outputs": [
    {
     "name": "stdout",
     "output_type": "stream",
     "text": [
      "INFO:tensorflow:Using default config.\n",
      "WARNING:tensorflow:Using temporary folder as model directory: C:\\Users\\VARUN_~1\\AppData\\Local\\Temp\\tmpx2z4o9_z\n",
      "INFO:tensorflow:Using config: {'_task_type': None, '_task_id': 0, '_cluster_spec': <tensorflow.python.training.server_lib.ClusterSpec object at 0x000001F9F3648908>, '_master': '', '_num_ps_replicas': 0, '_num_worker_replicas': 0, '_environment': 'local', '_is_chief': True, '_evaluation_master': '', '_train_distribute': None, '_tf_config': gpu_options {\n",
      "  per_process_gpu_memory_fraction: 1.0\n",
      "}\n",
      ", '_tf_random_seed': None, '_save_summary_steps': 100, '_save_checkpoints_secs': 600, '_log_step_count_steps': 100, '_session_config': None, '_save_checkpoints_steps': None, '_keep_checkpoint_max': 5, '_keep_checkpoint_every_n_hours': 10000, '_model_dir': 'C:\\\\Users\\\\VARUN_~1\\\\AppData\\\\Local\\\\Temp\\\\tmpx2z4o9_z'}\n",
      "INFO:tensorflow:Create CheckpointSaverHook.\n",
      "INFO:tensorflow:Graph was finalized.\n",
      "INFO:tensorflow:Running local_init_op.\n",
      "INFO:tensorflow:Done running local_init_op.\n",
      "INFO:tensorflow:Saving checkpoints for 1 into C:\\Users\\VARUN_~1\\AppData\\Local\\Temp\\tmpx2z4o9_z\\model.ckpt.\n",
      "INFO:tensorflow:loss = 2.75, step = 1\n",
      "INFO:tensorflow:Saving checkpoints for 2 into C:\\Users\\VARUN_~1\\AppData\\Local\\Temp\\tmpx2z4o9_z\\model.ckpt.\n",
      "INFO:tensorflow:Loss for final step: 1.7643211.\n",
      "INFO:tensorflow:Starting evaluation at 2018-06-30-05:44:32\n",
      "INFO:tensorflow:Graph was finalized.\n",
      "INFO:tensorflow:Restoring parameters from C:\\Users\\VARUN_~1\\AppData\\Local\\Temp\\tmpx2z4o9_z\\model.ckpt-2\n",
      "INFO:tensorflow:Running local_init_op.\n",
      "INFO:tensorflow:Done running local_init_op.\n",
      "INFO:tensorflow:Finished evaluation at 2018-06-30-05:44:32\n",
      "INFO:tensorflow:Saving dict for global step 2: global_step = 2, loss = 0.6657294\n",
      "{'loss': 0.6657294, 'global_step': 2}\n"
     ]
    }
   ],
   "source": [
    "import tensorflow as tf\n",
    "import numpy as np\n",
    "# Declare list of features. We only have one real-valued feature. There are many other types of columns that are more \n",
    "# complicated and useful.\n",
    "features = [tf.contrib.layers.real_valued_column(\"x\", dimension=1)]\n",
    "# An estimator is the front end to invoke training (fitting) and evaluation (inference). There are many predefined types\n",
    "# like linear regression, logistic regression, linear classification, logistic classification, and many\n",
    "# neural network classifiers and regressors. The following code provides an estimator that does linear regression.\n",
    "estimator = tf.contrib.learn.LinearRegressor(feature_columns=features)\n",
    "\n",
    "# TensorFlow provides many helper methods to read and set up data sets. Here we use `numpy_input_fn`.\n",
    "# We have to tell the function how many batches of data (num_epochs) we want and how big each batch should be.\n",
    "x = np.array([1., 2., 3., 4.])\n",
    "y = np.array([0., -1., -2., -3.])\n",
    "input_fn = tf.contrib.learn.io.numpy_input_fn({\"x\":x}, y, batch_size=4, num_epochs=2)\n",
    "\n",
    "# We can invoke 1000 training steps by invoking the `fit` method and passing the training data set.\n",
    "estimator.fit(input_fn=input_fn, steps=1000)\n",
    "\n",
    "# Here we evaluate how well our model did. In a real example, we would want\n",
    "# to use a separate validation and testing data set to avoid overfitting.\n",
    "print(estimator.evaluate(input_fn=input_fn))"
   ]
  },
  {
   "cell_type": "code",
   "execution_count": null,
   "metadata": {},
   "outputs": [],
   "source": [
    "\n"
   ]
  }
 ],
 "metadata": {
  "kernelspec": {
   "display_name": "Python 3",
   "language": "python",
   "name": "python3"
  },
  "language_info": {
   "codemirror_mode": {
    "name": "ipython",
    "version": 3
   },
   "file_extension": ".py",
   "mimetype": "text/x-python",
   "name": "python",
   "nbconvert_exporter": "python",
   "pygments_lexer": "ipython3",
   "version": "3.6.5"
  }
 },
 "nbformat": 4,
 "nbformat_minor": 2
}
