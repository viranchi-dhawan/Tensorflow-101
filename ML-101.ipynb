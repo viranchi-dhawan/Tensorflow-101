{
 "cells": [
  {
   "cell_type": "code",
   "execution_count": 18,
   "metadata": {},
   "outputs": [
    {
     "name": "stdout",
     "output_type": "stream",
     "text": [
      "[0]\n"
     ]
    }
   ],
   "source": [
    "from sklearn import tree\n",
    "#Differentitating between Apples and Oranges (Considering Color, Weight and Shape of object)\n",
    "#Let's assume apples are generally bumpy [0] and oranges are round [1]\n",
    "#Let's represent orange color as [1] and red as [0]\n",
    "#Usually apples are lightweight generally less than 150gms\n",
    "#Here we'll use ML to predict all the knowledge we have about apples and oranges based on our training data\n",
    "data_set = [[0,150,0], [0,130,0], [0,110,1], [1,180,1], [1,175,0], [0,185,1]]\n",
    "#Sample data set obj1: [red,150gms,bumpy] --> represented as --> [0,150,0]\n",
    "#We'll represent apples as 1 and oranges as 0\n",
    "#labels consist of answers for training data_set\n",
    "labels = [1,1,1,0,0,0]\n",
    "classifier = tree.DecisionTreeClassifier()\n",
    "classifier = classifier.fit(data_set, labels)\n",
    "print(classifier.predict([[0,162.51,1]]))"
   ]
  },
  {
   "cell_type": "code",
   "execution_count": null,
   "metadata": {},
   "outputs": [],
   "source": []
  }
 ],
 "metadata": {
  "kernelspec": {
   "display_name": "Python 3",
   "language": "python",
   "name": "python3"
  },
  "language_info": {
   "codemirror_mode": {
    "name": "ipython",
    "version": 3
   },
   "file_extension": ".py",
   "mimetype": "text/x-python",
   "name": "python",
   "nbconvert_exporter": "python",
   "pygments_lexer": "ipython3",
   "version": "3.6.5"
  }
 },
 "nbformat": 4,
 "nbformat_minor": 2
}
